{
 "cells": [
  {
   "cell_type": "markdown",
   "metadata": {},
   "source": [
    "# Part I. ETL Pipeline for Pre-Processing the Files"
   ]
  },
  {
   "cell_type": "markdown",
   "metadata": {},
   "source": [
    "## PLEASE RUN THE FOLLOWING CODE FOR PRE-PROCESSING THE FILES"
   ]
  },
  {
   "cell_type": "markdown",
   "metadata": {},
   "source": [
    "#### Import Python packages "
   ]
  },
  {
   "cell_type": "code",
   "execution_count": 1,
   "metadata": {},
   "outputs": [],
   "source": [
    "# Import Python packages \n",
    "import pandas as pd\n",
    "import cassandra\n",
    "import re\n",
    "import os\n",
    "import glob\n",
    "import numpy as np\n",
    "import json\n",
    "import csv"
   ]
  },
  {
   "cell_type": "markdown",
   "metadata": {},
   "source": [
    "#### Creating list of filepaths to process original event csv data files"
   ]
  },
  {
   "cell_type": "code",
   "execution_count": 2,
   "metadata": {},
   "outputs": [
    {
     "name": "stdout",
     "output_type": "stream",
     "text": [
      "/home/workspace\n"
     ]
    }
   ],
   "source": [
    "# checking your current working directory\n",
    "print(os.getcwd())\n",
    "\n",
    "# Get your current folder and subfolder event data\n",
    "filepath = os.getcwd() + '/event_data'\n",
    "\n",
    "# Create a for loop to create a list of files and collect each filepath\n",
    "for root, dirs, files in os.walk(filepath):\n",
    "    \n",
    "# join the file path and roots with the subdirectories using glob\n",
    "    file_path_list = glob.glob(os.path.join(root,'*'))\n",
    "    #print(file_path_list)\n",
    "    #print(\"total files: \", len(file_path_list))"
   ]
  },
  {
   "cell_type": "markdown",
   "metadata": {},
   "source": [
    "#### Processing the files to create the data file csv that will be used for Apache Casssandra tables"
   ]
  },
  {
   "cell_type": "code",
   "execution_count": 3,
   "metadata": {},
   "outputs": [],
   "source": [
    "# initiating an empty list of rows that will be generated from each file\n",
    "full_data_rows_list = [] \n",
    "    \n",
    "# for every filepath in the file path list \n",
    "for f in file_path_list:\n",
    "\n",
    "# reading csv file \n",
    "    with open(f, 'r', encoding = 'utf8', newline='') as csvfile: \n",
    "        # creating a csv reader object \n",
    "        csvreader = csv.reader(csvfile) \n",
    "        next(csvreader)\n",
    "        \n",
    " # extracting each data row one by one and append it        \n",
    "        for line in csvreader:\n",
    "            #print(line) #get each line in CSV file\n",
    "            full_data_rows_list.append(line) \n",
    "            \n",
    "# uncomment the code below if you would like to get total number of rows \n",
    "#print(len(full_data_rows_list))\n",
    "# uncomment the code below if you would like to check to see what the list of event data rows will look like\n",
    "#print(full_data_rows_list)\n",
    "\n",
    "# creating a smaller event data csv file called event_datafile_full csv that will be used to insert data into the \\\n",
    "# Apache Cassandra tables\n",
    "csv.register_dialect('myDialect', quoting=csv.QUOTE_ALL, skipinitialspace=True) # reference :https://www.opentechguides.com/how-to/article/python/182/csv-dialects.html\n",
    "\n",
    "with open('event_datafile_new.csv', 'w', encoding = 'utf8', newline='') as f:\n",
    "    writer = csv.writer(f, dialect='myDialect')\n",
    "    writer.writerow(['artist','firstName','gender','itemInSession','lastName','length',\\\n",
    "                'level','location','sessionId','song','userId'])\n",
    "    for row in full_data_rows_list:\n",
    "        if (row[0] == ''):\n",
    "            continue #artist must not be null\n",
    "        writer.writerow((row[0], row[2], row[3], row[4], row[5], row[6], row[7], row[8], row[12], row[13], row[16]))\n"
   ]
  },
  {
   "cell_type": "code",
   "execution_count": 4,
   "metadata": {},
   "outputs": [
    {
     "name": "stdout",
     "output_type": "stream",
     "text": [
      "6821\n"
     ]
    }
   ],
   "source": [
    "# check the number of rows in your csv file\n",
    "with open('event_datafile_new.csv', 'r', encoding = 'utf8') as f:\n",
    "    print(sum(1 for line in f))"
   ]
  },
  {
   "cell_type": "markdown",
   "metadata": {},
   "source": [
    "# Part II. Complete the Apache Cassandra coding portion of your project. \n",
    "\n",
    "## Now you are ready to work with the CSV file titled <font color=red>event_datafile_new.csv</font>, located within the Workspace directory.  The event_datafile_new.csv contains the following columns: \n",
    "- artist \n",
    "- firstName of user\n",
    "- gender of user\n",
    "- item number in session\n",
    "- last name of user\n",
    "- length of the song\n",
    "- level (paid or free song)\n",
    "- location of the user\n",
    "- sessionId\n",
    "- song title\n",
    "- userId\n",
    "\n",
    "The image below is a screenshot of what the denormalized data should appear like in the <font color=red>**event_datafile_new.csv**</font> after the code above is run:<br>\n",
    "\n",
    "<img src=\"images/image_event_datafile_new.jpg\">"
   ]
  },
  {
   "cell_type": "markdown",
   "metadata": {},
   "source": [
    "## Begin writing your Apache Cassandra code in the cells below"
   ]
  },
  {
   "cell_type": "markdown",
   "metadata": {},
   "source": [
    "#### Creating a Cluster"
   ]
  },
  {
   "cell_type": "code",
   "execution_count": 5,
   "metadata": {},
   "outputs": [],
   "source": [
    "# This should make a connection to a Cassandra instance your local machine \n",
    "# (127.0.0.1)\n",
    "\n",
    "from cassandra.cluster import Cluster\n",
    "cluster = Cluster()\n",
    "\n",
    "# To establish connection and begin executing queries, need a session\n",
    "session = cluster.connect()"
   ]
  },
  {
   "cell_type": "markdown",
   "metadata": {},
   "source": [
    "#### Create Keyspace"
   ]
  },
  {
   "cell_type": "code",
   "execution_count": 6,
   "metadata": {},
   "outputs": [],
   "source": [
    "# Create keyspace named udacity\n",
    "try:\n",
    "    session.execute(\"\"\"\n",
    "        create keyspace if not exists udacity with replication = {'class': 'SimpleStrategy', 'replication_factor': 1}\n",
    "    \"\"\")\n",
    "except Exception as e:\n",
    "    print(e)"
   ]
  },
  {
   "cell_type": "markdown",
   "metadata": {},
   "source": [
    "#### Set Keyspace"
   ]
  },
  {
   "cell_type": "code",
   "execution_count": 7,
   "metadata": {},
   "outputs": [],
   "source": [
    "# set session with above keyspace udacity\n",
    "try:\n",
    "    session.set_keyspace('udacity')\n",
    "except Exception as e:\n",
    "    print(e)"
   ]
  },
  {
   "cell_type": "markdown",
   "metadata": {},
   "source": [
    "### Now we need to create tables to run the following queries. Remember, with Apache Cassandra you model the database tables on the queries you want to run."
   ]
  },
  {
   "cell_type": "markdown",
   "metadata": {},
   "source": [
    "## Create queries to ask the following three questions of the data\n",
    "\n",
    "### 1. Give me the artist, song title and song's length in the music app history that was heard during  sessionId = 338, and itemInSession  = 4\n",
    "\n",
    "\n",
    "### 2. Give me only the following: name of artist, song (sorted by itemInSession) and user (first and last name) for userid = 10, sessionid = 182\n",
    "    \n",
    "\n",
    "### 3. Give me every user name (first and last) in my music app history who listened to the song 'All Hands Against His Own'"
   ]
  },
  {
   "cell_type": "markdown",
   "metadata": {},
   "source": [
    "## ------------------------------------------------- Answer Section --------------------------------------------------"
   ]
  },
  {
   "cell_type": "markdown",
   "metadata": {},
   "source": [
    "### Question 1 Section: get artist, song title and song's length in the music app history that was heard during sessionId = 338, and itemInSession = 4"
   ]
  },
  {
   "cell_type": "code",
   "execution_count": 8,
   "metadata": {},
   "outputs": [],
   "source": [
    "# Creat table song_info.\n",
    "# The primary key for song_info will be both sessionId and itemInSession, since there could be a chance of multi duplicate\n",
    "#  sessionId, but when combine with itemInSession, our primary key will be a unique value.\n",
    "\n",
    "create_table_query1 = \"create table if not exists song_info \"\n",
    "create_table_query1 += \"(sessionId int, itemInSession int, artist text, song text, length decimal, primary key(sessionID, itemInSession))\"\n",
    "\n",
    "try:\n",
    "    session.execute(create_table_query1)\n",
    "except Exception as e:\n",
    "    print(e)"
   ]
  },
  {
   "cell_type": "code",
   "execution_count": 9,
   "metadata": {
    "scrolled": false
   },
   "outputs": [],
   "source": [
    "# Get the CSV file\n",
    "file = 'event_datafile_new.csv'\n",
    "\n",
    "# Iterate every line in the CSV file and parse the corresponding data into song_info table\n",
    "with open(file, encoding = 'utf8') as f:\n",
    "    csvreader = csv.reader(f)\n",
    "    next(csvreader)\n",
    "    for line in csvreader:\n",
    "        insert_table_query1 = \"insert into song_info(sessionId, itemInSession, artist, song, length) \"\n",
    "        insert_table_query1 += \"values (%s, %s, %s, %s, %s)\"\n",
    "        \n",
    "        # Transform datatype of data\n",
    "        artist = line[0]\n",
    "        first_name = line[1]\n",
    "        gender = line[2]\n",
    "        itemInSession = int(line[3])\n",
    "        last_name = line[4]\n",
    "        length = float(line[5])\n",
    "        level = line[6]\n",
    "        location = line[7]\n",
    "        sessionId = int(line[8])\n",
    "        song = line[9]\n",
    "        userId = str(line[10])\n",
    "        \n",
    "        # Creat insert list variable:\n",
    "        insert_value1 = (sessionId, itemInSession, artist, song, length)\n",
    "\n",
    "        session.execute(insert_table_query1, (sessionId, itemInSession, artist, song, length))"
   ]
  },
  {
   "cell_type": "code",
   "execution_count": 10,
   "metadata": {
    "scrolled": true
   },
   "outputs": [
    {
     "name": "stdout",
     "output_type": "stream",
     "text": [
      "Faithless | Music Matters (Mark Knight Dub) | 495.3073\n"
     ]
    }
   ],
   "source": [
    "# Question 1's answer: get the artist, song title and song's length in the music app history that was heard during sessionId = 338, and itemInSession = 4\n",
    "# The query consisted of select part which return the information we need like artist name, song name and its length,\n",
    "#  meanwhile the where part indicate that the data we want to see is from session id 338 at item in session 4.\n",
    "\n",
    "task_1_query = \"select artist, song, length from song_info where sessionId = 338 and itemInSession = 4\"\n",
    "\n",
    "try:\n",
    "    rows = session.execute(task_1_query)\n",
    "except Exception as e:\n",
    "    print(e)\n",
    "    \n",
    "for row in rows:\n",
    "    print (str(row.artist) + ' | ' + str(row.song) + ' | ' +  str(row.length))"
   ]
  },
  {
   "cell_type": "markdown",
   "metadata": {},
   "source": [
    "### Question 2 Section: get name of artist, song (sorted by itemInSession) and user (first and last name) for userid = 10, sessionid = 182"
   ]
  },
  {
   "cell_type": "code",
   "execution_count": 11,
   "metadata": {},
   "outputs": [],
   "source": [
    "# Creat table song_session_listener.\n",
    "# The primary key for song_session_listener will be both userId and sessionId, which gurantee we have a unique primary key.\n",
    "# The itemSession will be the table clustering column, to sort data, in this case is in a alphabetical order.\n",
    "\n",
    "create_table_query2 = \"create table if not exists song_session_listener \"\n",
    "create_table_query2 += \"(userId int, sessionId int, itemInSession int, artist text, song text, user_name text, primary key((userId, sessionID), itemInSession))\"\n",
    "\n",
    "try:\n",
    "    session.execute(create_table_query2)\n",
    "except Exception as e:\n",
    "    print(e)"
   ]
  },
  {
   "cell_type": "code",
   "execution_count": 12,
   "metadata": {},
   "outputs": [],
   "source": [
    "# Get the CSV file\n",
    "file = 'event_datafile_new.csv'\n",
    "\n",
    "# Iterate every line in the CSV file and parse the corresponding data into song_session_listener table\n",
    "with open(file, encoding = 'utf8') as f:\n",
    "    csvreader = csv.reader(f)\n",
    "    next(csvreader)\n",
    "    for line in csvreader:\n",
    "        insert_table_query2 = \"insert into song_session_listener(userId, sessionId, itemInSession, artist, song, user_name) \"\n",
    "        insert_table_query2 += \"values (%s, %s, %s, %s, %s, %s)\"\n",
    "\n",
    "        # Transform datatype of data\n",
    "        artist = line[0]\n",
    "        first_name = line[1]\n",
    "        gender = line[2]\n",
    "        itemInSession = int(line[3])\n",
    "        last_name = line[4]\n",
    "        length = float(line[5])\n",
    "        level = line[6]\n",
    "        location = line[7]\n",
    "        sessionId = int(line[8])\n",
    "        song = line[9]\n",
    "        userId = int(line[10])\n",
    "        \n",
    "        # Combine last name and first name to create a full name.\n",
    "        user_name = first_name + ' ' + last_name\n",
    "        \n",
    "        # Creat insert list variable:\n",
    "        insert_value2 = (userId, sessionId, itemInSession, artist, song, user_name)\n",
    "\n",
    "        session.execute(insert_table_query2, insert_value2)"
   ]
  },
  {
   "cell_type": "code",
   "execution_count": 13,
   "metadata": {},
   "outputs": [
    {
     "name": "stdout",
     "output_type": "stream",
     "text": [
      "Down To The Bone | Keep On Keepin' On | Sylvie Cruz\n",
      "Three Drives | Greece 2000 | Sylvie Cruz\n",
      "Sebastien Tellier | Kilometer | Sylvie Cruz\n",
      "Lonnie Gordon | Catch You Baby (Steve Pitron & Max Sanna Radio Edit) | Sylvie Cruz\n"
     ]
    }
   ],
   "source": [
    "# Question 2's answer: Get name of artist, song (sorted by itemInSession) and user (first and last name) for userid = 10, sessionid = 182\n",
    "# The query consisted of select part which return the information we need like artist name, song name and its listener,\n",
    "#  meanwhile the where part indicate that the data we want to see is from user id 10 at session 182.\n",
    "#  noted that the queried result will be sorted in alphabetical order by itemInSession.\n",
    "\n",
    "task_2_query = \"select artist, song, user_name from song_session_listener where userId = 10 and sessionId = 182\"\n",
    "\n",
    "try:\n",
    "    rows = session.execute(task_2_query)\n",
    "except Exception as e:\n",
    "    print(e)\n",
    "    \n",
    "for row in rows:\n",
    "    print (row.artist + ' | ' + row.song + ' | ' + row.user_name)"
   ]
  },
  {
   "cell_type": "markdown",
   "metadata": {},
   "source": [
    "### Question 3 Section: get every user name (first and last) in my music app history who listened to the song 'All Hands Against His Own'"
   ]
  },
  {
   "cell_type": "code",
   "execution_count": 14,
   "metadata": {},
   "outputs": [],
   "source": [
    "# Creat table song_name_listener.\n",
    "# The primary key for song_name_listener will be both song and userId, which gurantee we have a unique primary key.\n",
    "#  If we just set song as primary key, the only (last) one data will be return, since the primary key is not unique\n",
    "\n",
    "create_table_query3 = \"create table if not exists song_name_listener \"\n",
    "create_table_query3 += \"(song text, userId int, user_name text, primary key(song, userId))\"\n",
    "\n",
    "try:\n",
    "    session.execute(create_table_query3)\n",
    "except Exception as e:\n",
    "    print(e)            "
   ]
  },
  {
   "cell_type": "code",
   "execution_count": 15,
   "metadata": {},
   "outputs": [],
   "source": [
    "# Get the CSV file\n",
    "file = 'event_datafile_new.csv'\n",
    "\n",
    "# Iterate every line in the CSV file and parse the corresponding data into song_name_listener table\n",
    "with open(file, encoding = 'utf8') as f:\n",
    "    csvreader = csv.reader(f)\n",
    "    next(csvreader) # skip header\n",
    "    for line in csvreader:\n",
    "        insert_table_query3 = \"insert into song_name_listener(song, userId, user_name) \"\n",
    "        insert_table_query3 += \"values (%s, %s, %s)\"\n",
    "\n",
    "        # Transform datatype of data\n",
    "        artist = line[0]\n",
    "        first_name = line[1]\n",
    "        gender = line[2]\n",
    "        itemInSession = int(line[3])\n",
    "        last_name = line[4]\n",
    "        length = float(line[5])\n",
    "        level = line[6]\n",
    "        location = line[7]\n",
    "        sessionId = int(line[8])\n",
    "        song = line[9]\n",
    "        userId = int(line[10])\n",
    "        \n",
    "        # Combine last name and first name to create a full name.\n",
    "        user_name = first_name + ' ' + last_name\n",
    "        \n",
    "        # Creat insert list variable:\n",
    "        insert_value3 = (song, userId, user_name)\n",
    "\n",
    "        session.execute(insert_table_query3, insert_value3)"
   ]
  },
  {
   "cell_type": "code",
   "execution_count": 16,
   "metadata": {},
   "outputs": [
    {
     "name": "stdout",
     "output_type": "stream",
     "text": [
      "Jacqueline Lynch\n",
      "Tegan Levine\n",
      "Sara Johnson\n"
     ]
    }
   ],
   "source": [
    "# Question 3's answer: get every user name (first and last) in my music app history who listened to the song 'All Hands Against His Own'\n",
    "# The query consisted of select part which return the information we need: listener name (or user name),\n",
    "#  meanwhile the where part indicate that the song that listener listen to is called 'All Hands Against His Own'.\n",
    "\n",
    "task_3_query = \"select user_name from song_name_listener where song = 'All Hands Against His Own'\"\n",
    "\n",
    "try:\n",
    "    rows = session.execute(task_3_query)\n",
    "except Exception as e:\n",
    "    print(e)\n",
    "    \n",
    "for row in rows:\n",
    "    print (row.user_name)\n"
   ]
  },
  {
   "cell_type": "markdown",
   "metadata": {},
   "source": [
    "### Drop the tables before closing out the sessions"
   ]
  },
  {
   "cell_type": "code",
   "execution_count": 17,
   "metadata": {},
   "outputs": [],
   "source": [
    "drop_table_query1 = \"drop table song_info\"\n",
    "\n",
    "drop_table_query2 = \"drop table song_session_listener\"\n",
    "\n",
    "drop_table_query3 = \"drop table song_name_listener\"\n",
    "\n",
    "try:\n",
    "    rows = session.execute(drop_table_query1)\n",
    "except Exception as e:\n",
    "    print(e)\n",
    "    \n",
    "try:\n",
    "    rows = session.execute(drop_table_query2)\n",
    "except Exception as e:\n",
    "    print(e)\n",
    "\n",
    "try:\n",
    "    rows = session.execute(drop_table_query3)\n",
    "except Exception as e:\n",
    "    print(e)"
   ]
  },
  {
   "cell_type": "markdown",
   "metadata": {},
   "source": [
    "### Close the session and cluster connection¶"
   ]
  },
  {
   "cell_type": "code",
   "execution_count": 18,
   "metadata": {},
   "outputs": [],
   "source": [
    "session.shutdown()\n",
    "cluster.shutdown()"
   ]
  },
  {
   "cell_type": "code",
   "execution_count": 19,
   "metadata": {},
   "outputs": [],
   "source": [
    "# This is the end of this notebook"
   ]
  }
 ],
 "metadata": {
  "kernelspec": {
   "display_name": "Python 3",
   "language": "python",
   "name": "python3"
  },
  "language_info": {
   "codemirror_mode": {
    "name": "ipython",
    "version": 3
   },
   "file_extension": ".py",
   "mimetype": "text/x-python",
   "name": "python",
   "nbconvert_exporter": "python",
   "pygments_lexer": "ipython3",
   "version": "3.6.3"
  }
 },
 "nbformat": 4,
 "nbformat_minor": 2
}
